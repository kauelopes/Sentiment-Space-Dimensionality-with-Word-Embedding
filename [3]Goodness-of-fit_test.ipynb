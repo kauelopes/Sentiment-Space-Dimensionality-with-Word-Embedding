{
 "cells": [
  {
   "cell_type": "code",
   "execution_count": 321,
   "metadata": {},
   "outputs": [],
   "source": [
    "#[0]\n",
    "import numpy as np\n",
    "from gensim.models.keyedvectors import KeyedVectors\n",
    "from gensim.scripts.glove2word2vec import glove2word2vec\n",
    "from gensim.test.utils import datapath, get_tmpfile\n",
    "import json #https://stackoverflow.com/questions/7100125/storing-python-dictionaries\n",
    "import pickle #https://stackoverflow.com/questions/11218477/how-can-i-use-pickle-to-save-a-dict\n",
    "import os\n",
    "#[1]\n",
    "from sklearn.manifold import MDS\n",
    "from scipy.spatial import procrustes\n",
    "import matplotlib.pyplot as plt\n",
    "\n",
    "%matplotlib inline\n",
    "\n",
    "#[2]\n",
    "from sklearn.cluster import KMeans\n",
    "from sklearn.manifold import TSNE\n",
    "from sklearn.cluster import DBSCAN\n",
    "\n",
    "#[3]\n",
    "from sklearn import decomposition\n",
    "from scipy.spatial import distance_matrix"
   ]
  },
  {
   "cell_type": "code",
   "execution_count": null,
   "metadata": {},
   "outputs": [],
   "source": []
  },
  {
   "cell_type": "code",
   "execution_count": 324,
   "metadata": {},
   "outputs": [],
   "source": [
    "embs = get_final_embs()"
   ]
  },
  {
   "cell_type": "code",
   "execution_count": 326,
   "metadata": {},
   "outputs": [],
   "source": [
    "sentiments = get_sentiments()"
   ]
  },
  {
   "cell_type": "markdown",
   "metadata": {},
   "source": [
    "# Calculando os valores críticos em cada embeddings"
   ]
  },
  {
   "cell_type": "code",
   "execution_count": 327,
   "metadata": {},
   "outputs": [
    {
     "name": "stdout",
     "output_type": "stream",
     "text": [
      "0 0.01963770303444889 1.2410491046435023e-05 0.014035716456828372\n",
      "1 0.018551266093093214 8.449276495975577e-06 0.01401244401621582\n",
      "2 0.024069114910266882 1.5283673120202507e-05 0.01787417956152285\n",
      "3 0.02212652558120395 1.0843939191918021e-05 0.01675619423386639\n",
      "4 0.02165609768315085 8.91291316198842e-06 0.016796828904386298\n",
      "5 0.02015185794431334 7.848230030834878e-06 0.01581125231344866\n"
     ]
    }
   ],
   "source": [
    "counter = 0\n",
    "for j in embs:\n",
    "    real = j.copy()\n",
    "    distances_real = distance_matrix(real,real)\n",
    "    iterations = 300\n",
    "    trocas = 10\n",
    "    erros = []\n",
    "    for i in range(iterations):\n",
    "        mod = real.copy()\n",
    "        for j in range(trocas):\n",
    "            a,b = np.random.randint(len(sentiments),size=2)\n",
    "            while(a==b):\n",
    "                a,b = np.random.randint(len(sentiments),size=2)\n",
    "            mod[a] = real[b]\n",
    "            mod[b] = real[a]\n",
    "\n",
    "        distance_mod = distance_matrix(mod,mod)\n",
    "        erro = calcula_stress(distances_real,distance_mod)\n",
    "        erros += [erro]\n",
    "    print(counter, np.mean(erros),np.var(erros),sorted(erros)[15])\n",
    "    counter += 1"
   ]
  },
  {
   "cell_type": "markdown",
   "metadata": {},
   "source": [
    "# Distancia calculada Nas dimensoes originais do problema"
   ]
  },
  {
   "cell_type": "code",
   "execution_count": 328,
   "metadata": {},
   "outputs": [
    {
     "data": {
      "text/plain": [
       "array([[0.    , 0.0219, 0.0293, 0.0276, 0.0162, 0.0224],\n",
       "       [0.0205, 0.    , 0.0202, 0.0205, 0.0169, 0.0125],\n",
       "       [0.0275, 0.0202, 0.    , 0.0178, 0.0173, 0.0139],\n",
       "       [0.0259, 0.0205, 0.0178, 0.    , 0.0176, 0.0137],\n",
       "       [0.0159, 0.0177, 0.0181, 0.0184, 0.    , 0.0136],\n",
       "       [0.021 , 0.0125, 0.0139, 0.0137, 0.013 , 0.    ]])"
      ]
     },
     "execution_count": 328,
     "metadata": {},
     "output_type": "execute_result"
    }
   ],
   "source": [
    "dists = []\n",
    "embs = get_final_embs()\n",
    "for e in embs:\n",
    "    dists += [distance_matrix(e,e)]\n",
    "errors = np.zeros((len(dists),len(dists)))\n",
    "for i in range(len(dists)):\n",
    "    for j in range(len(dists)):\n",
    "        errors[i][j] = np.round(calcula_stress(dists[i],dists[j]),4)\n",
    "errors"
   ]
  },
  {
   "cell_type": "code",
   "execution_count": 312,
   "metadata": {},
   "outputs": [
    {
     "name": "stdout",
     "output_type": "stream",
     "text": [
      "0 0.097\n",
      "1 0.09820000000000001\n",
      "2 0.0955\n",
      "3 0.1117\n",
      "4 0.07270000000000001\n",
      "5 0.0717\n"
     ]
    }
   ],
   "source": [
    "for i,n in enumerate(errors):\n",
    "    print(i,np.sum(n))"
   ]
  },
  {
   "cell_type": "code",
   "execution_count": null,
   "metadata": {},
   "outputs": [],
   "source": []
  },
  {
   "cell_type": "code",
   "execution_count": null,
   "metadata": {},
   "outputs": [],
   "source": []
  },
  {
   "cell_type": "code",
   "execution_count": 269,
   "metadata": {},
   "outputs": [
    {
     "name": "stdout",
     "output_type": "stream",
     "text": [
      "1 20.007582089906613 20.982829051880394\n",
      "2 9.773765528439679 14.661316210765118\n",
      "3 6.165058672817267 11.639980189073045\n",
      "4 4.347621544527844 9.77329093500574\n",
      "5 3.292842817669035 8.50379138212798\n",
      "6 2.69144037691381 7.686677825347472\n",
      "7 2.240189156468057 7.010216010528246\n",
      "8 1.930922736434995 6.507107871289905\n",
      "9 1.6536775985185939 6.020166221364168\n",
      "10 1.4731764846488415 5.68023119459122\n",
      "11 1.3160330740923003 5.366919226599249\n"
     ]
    }
   ],
   "source": [
    "stress = []\n",
    "x = []\n",
    "for i in range(1,12):\n",
    "    x+=[i]\n",
    "    r =MDS(n_components=i,max_iter=3000,n_init=10).fit(embs[0])\n",
    "    stress += [r.stress_]\n",
    "    print(i,r.stress_,calcula_stress_embeddings(embs[0],r.embedding_)*20/0.13)"
   ]
  },
  {
   "cell_type": "code",
   "execution_count": 251,
   "metadata": {},
   "outputs": [
    {
     "data": {
      "text/plain": [
       "([<matplotlib.axis.XTick at 0x7f463e43d6d0>,\n",
       "  <matplotlib.axis.XTick at 0x7f463e534310>,\n",
       "  <matplotlib.axis.XTick at 0x7f463dc0e710>,\n",
       "  <matplotlib.axis.XTick at 0x7f463df4a390>,\n",
       "  <matplotlib.axis.XTick at 0x7f463e1877d0>,\n",
       "  <matplotlib.axis.XTick at 0x7f463dfaee10>,\n",
       "  <matplotlib.axis.XTick at 0x7f463dccb190>,\n",
       "  <matplotlib.axis.XTick at 0x7f463e1398d0>,\n",
       "  <matplotlib.axis.XTick at 0x7f463e06d110>,\n",
       "  <matplotlib.axis.XTick at 0x7f463e06de50>,\n",
       "  <matplotlib.axis.XTick at 0x7f463e06ddd0>],\n",
       " <a list of 11 Text xticklabel objects>)"
      ]
     },
     "execution_count": 251,
     "metadata": {},
     "output_type": "execute_result"
    },
    {
     "data": {
      "image/png": "[encoded data removed]",
      "text/plain": [
       "<Figure size 720x360 with 1 Axes>"
      ]
     },
     "metadata": {
      "needs_background": "light"
     },
     "output_type": "display_data"
    }
   ],
   "source": [
    "fig, ax = plt.subplots(figsize=(10,5))\n",
    "ax.plot(x,stress)\n",
    "plt.xticks(np.arange(min(x), max(x)+1, 1.0))"
   ]
  },
  {
   "cell_type": "code",
   "execution_count": null,
   "metadata": {},
   "outputs": [],
   "source": [
    "ax."
   ]
  },
  {
   "cell_type": "code",
   "execution_count": null,
   "metadata": {},
   "outputs": [],
   "source": []
  },
  {
   "cell_type": "code",
   "execution_count": null,
   "metadata": {},
   "outputs": [],
   "source": []
  },
  {
   "cell_type": "code",
   "execution_count": 323,
   "metadata": {},
   "outputs": [],
   "source": [
    "def get_emotion_embedding():\n",
    "    return get_emb_concat()\n",
    "\n",
    "def get_final_embs(dimensions = 200):\n",
    "    embs = get_clean_embeddings()\n",
    "    embs += [get_emb_soma()]\n",
    "    embs += [get_emb_concat()]\n",
    "\n",
    "\n",
    "    mds = MDS(n_components=dimensions)\n",
    "    #Trata embeddings, filtrando somente os sentimentos principais e colocando no numero minimo de dimensoes\n",
    "    embeddings = []\n",
    "    for i in range(len(embs)):\n",
    "        transformed_embedding = mds.fit_transform(embs[i])\n",
    "        embeddings += [transformed_embedding]\n",
    "    embs = embeddings\n",
    "\n",
    "    for a in range(len(embs)):\n",
    "        for b in range(len(embs)):\n",
    "            embs[a],embs[b],r = procrustes(embs[a],embs[b])\n",
    "    for i in range(200):\n",
    "        a = np.random.randint(len(embs))\n",
    "        b = np.random.randint(len(embs))\n",
    "        embs[a],embs[b],r = procrustes(embs[a],embs[b])\n",
    "    return embs\n",
    "\n",
    "def calcula_stress_embeddings(d_original, d_proposta):\n",
    "    d_original = distance_matrix(d_original,d_original)\n",
    "    d_proposta = distance_matrix(d_proposta,d_proposta)\n",
    "    a = np.sum((d_original-d_proposta)**2)\n",
    "    b = np.sum(d_original**2)\n",
    "    return np.sqrt(a/b)/4\n",
    "\n",
    "def calcula_stress(d_original, d_proposta):\n",
    "    a = np.sum((d_original-d_proposta)**2)\n",
    "    b = np.sum(d_original**2)\n",
    "    return np.sqrt(a/b)/4\n",
    "\n",
    "def get_emb_soma():\n",
    "    embeddings = get_clean_embeddings()\n",
    "    sentiments = get_sentiments()\n",
    "    assemble_embeddings_soma = np.zeros_like(embeddings[0])\n",
    "    for i in embeddings:\n",
    "        for c in range(len(sentiments)):\n",
    "            assemble_embeddings_soma[c] = assemble_embeddings_soma[c] + i[c]\n",
    "    return assemble_embeddings_soma\n",
    "\n",
    "def get_emb_concat():\n",
    "    embeddings = get_clean_embeddings()\n",
    "    sentiments = get_sentiments()\n",
    "    assemble_embeddings_concat = []\n",
    "\n",
    "    for c in range(len(sentiments)):\n",
    "        tmp = np.array([])\n",
    "        for i in embeddings:\n",
    "            tmp = np.concatenate((tmp,i[c]))\n",
    "        assemble_embeddings_concat += [tmp]\n",
    "    return assemble_embeddings_concat\n",
    "\n",
    "\n",
    "def get_emb_media():\n",
    "    #média dos vetores e retirando outliers\n",
    "    embeddings = get_clean_embeddings()\n",
    "    sentiments = get_sentiments()\n",
    "    assemble_embeddings_media = np.zeros_like(embeddings[0])\n",
    "    vec = []\n",
    "    dist = []\n",
    "    for c in range(len(sentiments)):\n",
    "        tmp = np.array([])\n",
    "        vec = []\n",
    "        for i in embeddings:\n",
    "            vec += [i[c]]\n",
    "\n",
    "        centroid = np.zeros_like(vec[0])\n",
    "        for i in vec:\n",
    "            centroid = centroid + i\n",
    "        centroid = centroid/len(vec)\n",
    "\n",
    "        dist = []\n",
    "        for i in vec:\n",
    "            dist += [np.linalg.norm(i-centroid)]\n",
    "\n",
    "        limitante_distancia_para_corte = np.max(dist)\n",
    "\n",
    "        counter = 0\n",
    "        for n,i in enumerate(embeddings):\n",
    "            if dist[n]!=limitante_distancia_para_corte:\n",
    "                assemble_embeddings_media[c] += i[c] \n",
    "                counter+=1\n",
    "\n",
    "        assemble_embeddings_media[c] = assemble_embeddings_media[c]/counter\n",
    "    return assemble_embeddings_media\n",
    "\n",
    "\n",
    "def get_clean_embeddings():\n",
    "#Seleciona somente os vetores principais das nossas embeddings\n",
    "    sentiments = get_sentiments()\n",
    "    raw_embeddings = []\n",
    "    dimensions_size = []\n",
    "    for i in range(4):\n",
    "        tmp = get_vectors_embedding(i)\n",
    "        raw_embeddings += [tmp]\n",
    "        dimensions_size+=[len(get_sentiment_vector(tmp,sentiments[0]))]\n",
    "#Faz o corte para o menor tamanho de dimensão\n",
    "    n_dimensions = np.min(dimensions_size)\n",
    "    # n_dimensions = 10\n",
    "    mds = MDS(n_components=n_dimensions)\n",
    "#Trata embeddings, filtrando somente os sentimentos principais e colocando no numero minimo de dimensoes\n",
    "    embeddings = []\n",
    "    for i in range(4):\n",
    "        tmp_embedding = []\n",
    "        for s in sentiments:\n",
    "            tmp_embedding += [get_sentiment_vector(raw_embeddings[i],s)]\n",
    "        transformed_embedding = mds.fit_transform(tmp_embedding)\n",
    "        embeddings += [transformed_embedding]\n",
    "    # Calcula erro entre nossos modelos\n",
    "    for a in range(len(embeddings)):\n",
    "        for b in range(len(embeddings)):\n",
    "            embeddings[a],embeddings[b],r = procrustes(embeddings[a],embeddings[b])\n",
    "    return embeddings\n",
    "\n",
    "def print_anotado(emb):\n",
    "    fig, ax = plt.subplots(figsize=(15,15))\n",
    "    ax.scatter(emb[:,0], emb[:,1])\n",
    "    n = get_sentiments()\n",
    "    \n",
    "    for i, txt in enumerate(n):\n",
    "        ax.annotate(\" \"+txt, (emb[:,0][i], emb[:,1][i]))\n",
    "\n",
    "def print_anotado2(emb):\n",
    "    fig, ax = plt.subplots(figsize=(15,15))\n",
    "    for e in emb:\n",
    "        ax.scatter(e[:,0], e[:,1])\n",
    "        n = get_sentiments()\n",
    "\n",
    "        for i, txt in enumerate(n):\n",
    "            ax.annotate(txt, (e[:,0][i], e[:,1][i]))\n",
    "\n",
    "def print_2d(embs):\n",
    "    res = []\n",
    "    mds_2 = MDS(n_components=2)\n",
    "    for e in embs:\n",
    "        res += [mds_2.fit_transform(e)]\n",
    "    for p in res:\n",
    "        plt.scatter(p[:,0],p[:,1])\n",
    "\n",
    "def get_sentiment_vector(embedding, sentiment):\n",
    "    return embedding[sentiment][\"vectors\"][sentiment]\n",
    "\n",
    "def get_vectors_embedding(n):\n",
    "    files = os.listdir(\"models\")\n",
    "    model_file_name = []\n",
    "    for file in files:\n",
    "        model_file_name += [file]\n",
    "    escolhidos = [model_file_name[14],model_file_name[5],model_file_name[7],model_file_name[3]]\n",
    "    with open(\"models/\"+escolhidos[n], 'rb') as handle:\n",
    "        b = pickle.load(handle)\n",
    "    return b\n",
    "\n",
    "def get_sentiments_old():\n",
    "    sentiments = np.load(\"./sentiments_list.npy\")\n",
    "    return sentiments\n",
    "def get_sentiments():\n",
    "    sentiments = np.load(\"./sentiments_list.npy\")\n",
    "    sentiments = np.concatenate((sentiments[:26],sentiments[27:]))\n",
    "    return sentiments"
   ]
  },
  {
   "cell_type": "code",
   "execution_count": null,
   "metadata": {},
   "outputs": [],
   "source": []
  }
 ],
 "metadata": {
  "kernelspec": {
   "display_name": "Python 3",
   "language": "python",
   "name": "python3"
  },
  "language_info": {
   "codemirror_mode": {
    "name": "ipython",
    "version": 3
   },
   "file_extension": ".py",
   "mimetype": "text/x-python",
   "name": "python",
   "nbconvert_exporter": "python",
   "pygments_lexer": "ipython3",
   "version": "3.7.4"
  }
 },
 "nbformat": 4,
 "nbformat_minor": 2
}
