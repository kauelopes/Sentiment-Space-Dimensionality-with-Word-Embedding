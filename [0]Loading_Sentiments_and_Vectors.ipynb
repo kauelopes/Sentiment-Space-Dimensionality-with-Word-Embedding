{
 "cells": [
  {
   "cell_type": "code",
   "execution_count": 1,
   "metadata": {},
   "outputs": [],
   "source": [
    "import numpy as np\n",
    "from gensim.models.keyedvectors import KeyedVectors\n",
    "from gensim.scripts.glove2word2vec import glove2word2vec\n",
    "from gensim.test.utils import datapath, get_tmpfile\n",
    "import json #https://stackoverflow.com/questions/7100125/storing-python-dictionaries\n",
    "import pickle #https://stackoverflow.com/questions/11218477/how-can-i-use-pickle-to-save-a-dict\n",
    "import os"
   ]
  },
  {
   "cell_type": "code",
   "execution_count": 4,
   "metadata": {},
   "outputs": [],
   "source": [
    "files = os.listdir(\"models\")\n",
    "model_file_name = []\n",
    "for file in files:\n",
    "    model_file_name += [file]"
   ]
  },
  {
   "cell_type": "code",
   "execution_count": 6,
   "metadata": {},
   "outputs": [
    {
     "data": {
      "text/plain": [
       "['glove.twitter.27B.100d.txt.pickle',\n",
       " 'glove.twitter.27B.50d.txt.pickle',\n",
       " 'wiki-news-300d-1M-subword.vec.pickle',\n",
       " 'glove.6B.300d.txt.pickle',\n",
       " 'crawl-300d-2M-subword.vec.pickle',\n",
       " 'crawl-300d-2M.vec.pickle',\n",
       " 'glove.twitter.27B.25d.txt.pickle',\n",
       " 'glove.840B.300d.txt.pickle',\n",
       " 'glove.6B.100d.txt.pickle',\n",
       " 'GoogleNews-vectors-negative300.bin.pickle',\n",
       " 'glove.6B.200d.txt.pickle',\n",
       " 'glove.twitter.27B.200d.txt.pickle',\n",
       " 'glove.42B.300d.txt.pickle',\n",
       " 'glove.6B.50d.txt.pickle',\n",
       " 'wiki-news-300d-1M.vec.pickle']"
      ]
     },
     "execution_count": 6,
     "metadata": {},
     "output_type": "execute_result"
    }
   ],
   "source": [
    "model_file_name"
   ]
  },
  {
   "cell_type": "code",
   "execution_count": 12,
   "metadata": {},
   "outputs": [
    {
     "data": {
      "text/plain": [
       "('glove.twitter.27B.200d.txt.pickle',\n",
       " 'wiki-news-300d-1M.vec.pickle',\n",
       " 'crawl-300d-2M.vec.pickle',\n",
       " 'glove.840B.300d.txt.pickle')"
      ]
     },
     "execution_count": 12,
     "metadata": {},
     "output_type": "execute_result"
    }
   ],
   "source": [
    "model_file_name[11],model_file_name[14],model_file_name[5],model_file_name[7]"
   ]
  },
  {
   "cell_type": "code",
   "execution_count": 22,
   "metadata": {},
   "outputs": [],
   "source": [
    "b = 1\n",
    "with open(\"models/\"+model_file_name[0], 'rb') as handle:\n",
    "    b = pickle.load(handle)"
   ]
  },
  {
   "cell_type": "code",
   "execution_count": 17,
   "metadata": {},
   "outputs": [],
   "source": [
    "def get_vectors_embedding(n):\n",
    "    files = os.listdir(\"models\")\n",
    "    model_file_name = []\n",
    "    for file in files:\n",
    "        model_file_name += [file]\n",
    "    escolhidos = [model_file_name[11],model_file_name[14],model_file_name[5],model_file_name[7]]\n",
    "    with open(\"models/\"+escolhidos[n], 'rb') as handle:\n",
    "        b = pickle.load(handle)\n",
    "    return b"
   ]
  },
  {
   "cell_type": "code",
   "execution_count": 26,
   "metadata": {},
   "outputs": [],
   "source": [
    "def get_sentiments():\n",
    "    sentiments = np.load(\"./sentiments_list.npy\")\n",
    "    return sentiments"
   ]
  }
 ],
 "metadata": {
  "kernelspec": {
   "display_name": "Python 3",
   "language": "python",
   "name": "python3"
  },
  "language_info": {
   "codemirror_mode": {
    "name": "ipython",
    "version": 3
   },
   "file_extension": ".py",
   "mimetype": "text/x-python",
   "name": "python",
   "nbconvert_exporter": "python",
   "pygments_lexer": "ipython3",
   "version": "3.7.4"
  }
 },
 "nbformat": 4,
 "nbformat_minor": 2
}
